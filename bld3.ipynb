{
 "cells": [
  {
   "cell_type": "code",
   "execution_count": 1,
   "metadata": {},
   "outputs": [],
   "source": [
    "from cube import Cube3\n",
    "from bld3style import *\n",
    "\n",
    "seed = 1#759553072"
   ]
  },
  {
   "cell_type": "code",
   "execution_count": 2,
   "metadata": {},
   "outputs": [
    {
     "name": "stdout",
     "output_type": "stream",
     "text": [
      "D' U2 D2 R2 B U2 D2 R' U' R2 D' U2 D U' L B' D2 U' F2 R'\n",
      "    ORG\n",
      "    OWB\n",
      "    BRG\n",
      "WWO WWO YWR WYG\n",
      "YOB YGB RRO GBO\n",
      "WGY GWB OGB YBR\n",
      "    RGY\n",
      "    RYY\n",
      "    BOR\n",
      "unchecked ['UBR', 'UFL', 'RDF', 'FDL', 'RDB', 'UBL', 'BDL'] sequence [] twisted [] buffer C\n",
      "unchecked ['UBR', 'UFL', 'RDF', 'RDB', 'UBL', 'BDL'] sequence ['L'] twisted [] buffer C\n",
      "unchecked ['UBR', 'UFL', 'RDB', 'UBL', 'BDL'] sequence ['L', 'K'] twisted [] buffer C\n",
      "unchecked ['UBR', 'UFL', 'RDB', 'UBL'] sequence ['L', 'K', 'S'] twisted [] buffer C\n",
      "unchecked ['UFL', 'RDB', 'UBL'] sequence ['L', 'K', 'S', 'N'] twisted [] buffer C\n",
      "unchecked ['UFL', 'RDB'] sequence ['L', 'K', 'S', 'N', 'D', 'R'] twisted [] buffer D\n",
      "corner sequence ['L', 'K', 'S', 'N', 'D', 'R', 'I'] twisted ['DBR']\n",
      "twisted sequence [['T', 'W']] parity True parity twist 0 adjusted letter I\n",
      "corner sequence ['L', 'K', 'S', 'N', 'D', 'R', 'I', 'T', 'W']\n",
      "unchecked ['UB', 'UR', 'UL', 'FR', 'FL', 'DR', 'DL', 'DF', 'BR', 'BL', 'DB'] sequence [] twisted [] buffer C\n",
      "unchecked ['UB', 'UR', 'UL', 'FR', 'FL', 'DL', 'DF', 'BR', 'BL', 'DB'] sequence ['A', 'O'] twisted [] buffer A\n",
      "unchecked ['UB', 'UR', 'UL', 'FR', 'FL', 'DL', 'BR', 'BL', 'DB'] sequence ['A', 'O', 'K'] twisted [] buffer A\n",
      "unchecked ['UB', 'UL', 'FR', 'FL', 'DL', 'BR', 'BL', 'DB'] sequence ['A', 'O', 'K', 'B'] twisted [] buffer A\n",
      "unchecked ['FR', 'FL', 'DL', 'BL', 'DB'] sequence ['A', 'O', 'K', 'B', 'Q', 'J', 'T'] twisted ['UL'] buffer J\n",
      "unchecked ['FR', 'DL', 'BL', 'DB'] sequence ['A', 'O', 'K', 'B', 'Q', 'J', 'T', 'L'] twisted ['UL'] buffer J\n",
      "unchecked ['FR', 'DL', 'BL'] sequence ['A', 'O', 'K', 'B', 'Q', 'J', 'T', 'L', 'W'] twisted ['UL'] buffer J\n",
      "unchecked ['FR', 'DL'] sequence ['A', 'O', 'K', 'B', 'Q', 'J', 'T', 'L', 'W', 'H'] twisted ['UL'] buffer J\n",
      "unchecked ['FR'] sequence ['A', 'O', 'K', 'B', 'Q', 'J', 'T', 'L', 'W', 'H', 'X'] twisted ['UL'] buffer J\n",
      "edge sequence ['A', 'O', 'K', 'B', 'Q', 'J', 'T', 'L', 'W', 'H', 'X', 'P'] flipped ['UL']\n",
      "flipped [['D', 'E']] last letter J\n",
      "{'corners': 'LK SN DR IT W', 'edges': 'AO KB QJ TL WH XD EJ'}\n",
      "    WWW\n",
      "    WWW\n",
      "    WWW\n",
      "OOO GGG RRR BBB\n",
      "OOO GGG RRR BBB\n",
      "OOO GGG RRR BBB\n",
      "    YYY\n",
      "    YYY\n",
      "    YYY\n"
     ]
    }
   ],
   "source": [
    "if seed is not None:\n",
    "    cube, s = Cube3().scramble(seed=seed)\n",
    "    print(s)\n",
    "    print(repr(cube))\n",
    "    mem = speffz_sequence(cube, verbose=1)\n",
    "    print(mem)\n",
    "    print(repr(execute_sequence(cube, mem['edges'], mem['corners'])))"
   ]
  },
  {
   "cell_type": "code",
   "execution_count": 3,
   "metadata": {},
   "outputs": [],
   "source": [
    "import random, time\n",
    "\n",
    "if seed is None:\n",
    "    random.seed(time.time())\n",
    "    n = 100000\n",
    "    c = 0\n",
    "    for i in range(n):\n",
    "        seed = random.randint(0, 2**32)\n",
    "        cube, _ = Cube3().scramble(seed=seed)\n",
    "        mem = speffz_sequence(cube)\n",
    "        execute_sequence(cube, mem['edges'], mem['corners'])\n",
    "        print('solved' if cube.is_solved() else 'failed', seed, mem)\n",
    "        if cube.is_solved(): c += 1\n",
    "    print(c/n)"
   ]
  }
 ],
 "metadata": {
  "kernelspec": {
   "display_name": "Python 3",
   "language": "python",
   "name": "python3"
  },
  "language_info": {
   "codemirror_mode": {
    "name": "ipython",
    "version": 3
   },
   "file_extension": ".py",
   "mimetype": "text/x-python",
   "name": "python",
   "nbconvert_exporter": "python",
   "pygments_lexer": "ipython3",
   "version": "3.11.1"
  }
 },
 "nbformat": 4,
 "nbformat_minor": 2
}
