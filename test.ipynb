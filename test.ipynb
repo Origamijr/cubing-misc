{
 "cells": [
  {
   "cell_type": "code",
   "execution_count": 1,
   "metadata": {},
   "outputs": [
    {
     "data": {
      "text/plain": [
       "    GGG\n",
       "    GGG\n",
       "    GGG\n",
       "OOO YYY RRR WWW\n",
       "OOO YYY RRR WWW\n",
       "OOO YYY RRR WWW\n",
       "    BBB\n",
       "    BBB\n",
       "    BBB"
      ]
     },
     "execution_count": 1,
     "metadata": {},
     "output_type": "execute_result"
    }
   ],
   "source": [
    "from cube import Cube3\n",
    "\n",
    "c = Cube3()\n",
    "c.execute(\"x\")"
   ]
  }
 ],
 "metadata": {
  "kernelspec": {
   "display_name": "Python 3",
   "language": "python",
   "name": "python3"
  },
  "language_info": {
   "codemirror_mode": {
    "name": "ipython",
    "version": 3
   },
   "file_extension": ".py",
   "mimetype": "text/x-python",
   "name": "python",
   "nbconvert_exporter": "python",
   "pygments_lexer": "ipython3",
   "version": "3.11.1"
  }
 },
 "nbformat": 4,
 "nbformat_minor": 2
}
